{
 "cells": [
  {
   "cell_type": "markdown",
   "metadata": {},
   "source": [
    "### Understanding the data"
   ]
  },
  {
   "cell_type": "markdown",
   "metadata": {},
   "source": [
    "There are 2947 test instances with 561 features. While training instances were not mentioned explicitly in the paper, it is stated that 70% of the whole data collection is dedicated for training. In addition to the standard features used in the previous experiment, new features  (energy of different frequency bands, frequency skew- ness, and angle between vectors are added to the list of features) are added to improve learning performance."
   ]
  },
  {
   "cell_type": "markdown",
   "metadata": {},
   "source": [
    "### Libraries and modules"
   ]
  },
  {
   "cell_type": "code",
   "execution_count": 15,
   "metadata": {
    "collapsed": true
   },
   "outputs": [],
   "source": [
    "import numpy as np\n",
    "import pandas as pd\n",
    "import time\n",
    "import matplotlib.pyplot as plt\n",
    "from matplotlib.colors import ListedColormap\n",
    "from sklearn.linear_model import SGDClassifier\n",
    "from sklearn.neighbors import KNeighborsClassifier\n",
    "from sklearn.model_selection import cross_val_predict\n",
    "from sklearn.metrics import confusion_matrix\n",
    "from sklearn.metrics import accuracy_score\n",
    "from sklearn.metrics import f1_score\n",
    "from sklearn import svm\n",
    "from sklearn.ensemble import RandomForestClassifier\n",
    "%matplotlib inline"
   ]
  },
  {
   "cell_type": "markdown",
   "metadata": {},
   "source": [
    "### Data"
   ]
  },
  {
   "cell_type": "code",
   "execution_count": 249,
   "metadata": {},
   "outputs": [
    {
     "name": "stdout",
     "output_type": "stream",
     "text": [
      "Size of training data:\n",
      "(7352, 561)\n",
      "(7352,)\n",
      "No of unique labels: [1 2 3 4 5 6]\n",
      "\n",
      "Size of test data:\n",
      "(2947, 561)\n",
      "(2947,)\n"
     ]
    }
   ],
   "source": [
    "# import data\n",
    "X_train = (pd.read_csv('train/X_train.txt', header=None, delimiter=r\"\\s+\")).values\n",
    "y_train = (pd.read_csv('train/y_train.txt', header=None, delimiter=r\"\\s+\")).values\n",
    "y_train = y_train.ravel()\n",
    "\n",
    "X_test = (pd.read_csv('test/X_test.txt', header=None, delimiter=r\"\\s+\")).values\n",
    "y_test = (pd.read_csv('test/y_test.txt', header=None, delimiter=r\"\\s+\")).values\n",
    "y_test = y_test.ravel()\n",
    "\n",
    "print \"Size of training data:\"\n",
    "print X_train.shape\n",
    "print y_train.shape\n",
    "print \"No of unique labels: {}\".format(np.unique(y_train))\n",
    "print \n",
    "print \"Size of test data:\"\n",
    "print X_test.shape\n",
    "print y_test.shape\n",
    "\n",
    "# for report\n",
    "classifier_r = []\n",
    "parameters_r = []\n",
    "f1score_r = []\n",
    "accuracy_r = []\n"
   ]
  },
  {
   "cell_type": "markdown",
   "metadata": {},
   "source": [
    "### K-Nearest Neighbour\n",
    "Choosing the best K value for the model"
   ]
  },
  {
   "cell_type": "code",
   "execution_count": 253,
   "metadata": {},
   "outputs": [
    {
     "name": "stdout",
     "output_type": "stream",
     "text": [
      "Running ...\n",
      "\n",
      "\tK\t\tF1-score\tAccuracy\n",
      "\t1.000000\t0.891965\t0.892138\n",
      "\t2.000000\t0.880233\t0.880441\n",
      "\t3.000000\t0.903255\t0.903564\n",
      "\t4.000000\t0.901445\t0.901523\n",
      "\t5.000000\t0.907040\t0.907372\n",
      "\t6.000000\t0.905896\t0.906012\n",
      "\t7.000000\t0.907273\t0.907644\n",
      "\t8.000000\t0.909544\t0.909684\n",
      "\t9.000000\t0.905987\t0.906420\n",
      "\t10.000000\t0.910050\t0.910229\n",
      "\t11.000000\t0.907802\t0.908188\n",
      "\t12.000000\t0.908563\t0.908732\n",
      "\t13.000000\t0.906702\t0.907100\n",
      "\t14.000000\t0.908943\t0.909140\n",
      "\t15.000000\t0.908059\t0.908460\n",
      "\t16.000000\t0.906477\t0.906692\n",
      "\t17.000000\t0.906831\t0.907236\n",
      "\t18.000000\t0.907114\t0.907372\n",
      "\t19.000000\t0.907070\t0.907508\n",
      "\t20.000000\t0.908288\t0.908596\n",
      "\t21.000000\t0.906651\t0.907100\n",
      "\t22.000000\t0.905316\t0.905604\n",
      "\t23.000000\t0.905801\t0.906284\n",
      "\t24.000000\t0.904855\t0.905196\n",
      "\t25.000000\t0.905244\t0.905740\n",
      "\t26.000000\t0.904668\t0.905060\n",
      "\t27.000000\t0.904692\t0.905196\n",
      "\t28.000000\t0.903442\t0.903836\n",
      "\t29.000000\t0.902044\t0.902612\n",
      "\t30.000000\t0.902727\t0.903156\n",
      "\t31.000000\t0.903160\t0.903700\n",
      "\t32.000000\t0.903277\t0.903700\n",
      "\t33.000000\t0.903162\t0.903700\n",
      "\t34.000000\t0.902862\t0.903292\n",
      "\t35.000000\t0.902450\t0.903020\n",
      "\t36.000000\t0.901753\t0.902203\n",
      "\t37.000000\t0.902168\t0.902748\n",
      "\t38.000000\t0.902250\t0.902748\n",
      "\t39.000000\t0.902668\t0.903292\n",
      "\t40.000000\t0.902375\t0.902884\n",
      "\t41.000000\t0.900459\t0.901115\n",
      "\t42.000000\t0.902203\t0.902748\n",
      "\t43.000000\t0.900849\t0.901523\n",
      "\t44.000000\t0.900939\t0.901523\n",
      "\t45.000000\t0.901148\t0.901795\n",
      "\t46.000000\t0.901208\t0.901795\n",
      "\t47.000000\t0.899316\t0.900027\n",
      "\t48.000000\t0.899984\t0.900571\n",
      "\t49.000000\t0.899062\t0.899755\n",
      "\t50.000000\t0.898602\t0.899211\n",
      "========================================\n",
      "--- Running time: 1832.87640977 seconds ---\n"
     ]
    }
   ],
   "source": [
    "# build model\n",
    "def plot_estimator(estimator, X, y):\n",
    "    '''\n",
    "    This function takes a model (estimator), \n",
    "    '''\n",
    "    estimator.fit(X, y)\n",
    "    # Determine the maximum and minimum mesh as a boundary\n",
    "    x_min, x_max = X[:, 0].min() - .1, X[:, 0].max() + .1\n",
    "    y_min, y_max = X[:, 1].min() - .1, X[:, 1].max() + .1\n",
    "    # Generating the points on the mesh\n",
    "    xx, yy = np.meshgrid(np.linspace(x_min, x_max, 100),\n",
    "                         np.linspace(y_min, y_max, 100))\n",
    "    # Make predictions on the grid points\n",
    "    Z = estimator.predict(np.c_[xx.ravel(), yy.ravel()])\n",
    "\n",
    "    # for color\n",
    "    Z = Z.reshape(xx.shape)\n",
    "    plt.figure()\n",
    "    plt.pcolormesh(xx, yy, Z, cmap=cmap_light)\n",
    "\n",
    "    # Original training sample\n",
    "    plt.scatter(X[:, 0], X[:, 1], c=y, cmap=cmap_bold)\n",
    "    plt.axis('tight')\n",
    "    plt.axis('off')\n",
    "    plt.tight_layout()\n",
    "\n",
    "start_time = time.time()\n",
    "print(\"Running ...\")\n",
    "print \n",
    "k_val = []\n",
    "f_score = []\n",
    "acc = []\n",
    "print \"\\tK\\t\\tF1-score\\tAccuracy\"\n",
    "\n",
    "# Build a kNN using 1-50 neighbour nodes\n",
    "for i in range(1,51):\n",
    "    k_val.append(i)\n",
    "    knn_model = KNeighborsClassifier(n_neighbors=i)\n",
    "    y_pred = cross_val_predict(knn_model, X_train, y_train, cv=10)\n",
    "    knn_f1score = f1_score(y_train, y_pred, average='weighted')\n",
    "    knn_accuracy = accuracy_score(y_train, y_pred)\n",
    "    f_score.append(knn_f1score)\n",
    "    acc.append(knn_accuracy)\n",
    "    print \"\\t{:f}\\t{:f}\\t{:f}\".format(i,knn_f1score, knn_accuracy)\n",
    "\n",
    "print(\"=\"*40)\n",
    "runtime = time.time() - start_time\n",
    "print(\"--- Running time: %s seconds ---\" % (runtime))\n"
   ]
  },
  {
   "cell_type": "code",
   "execution_count": 254,
   "metadata": {},
   "outputs": [
    {
     "name": "stdout",
     "output_type": "stream",
     "text": [
      "The highest f1 score is 0.910049702244\n",
      "The best K is 10\n"
     ]
    }
   ],
   "source": [
    "# best K\n",
    "print \"The highest f1 score is {}\". format(max(f_score))\n",
    "idx = f_score.index(max(f_score))\n",
    "best_K = k_val[idx]\n",
    "print \"The best K is {}\".format(best_K)"
   ]
  },
  {
   "cell_type": "code",
   "execution_count": 255,
   "metadata": {},
   "outputs": [
    {
     "data": {
      "image/png": "[encoded data removed]",
      "text/plain": [
       "<matplotlib.figure.Figure at 0x11638f1d0>"
      ]
     },
     "metadata": {},
     "output_type": "display_data"
    }
   ],
   "source": [
    "plt.plot(range(1,51), acc, color='b')\n",
    "plt.xlabel('K values')    \n",
    "plt.ylabel('CV Accuracy')\n",
    "plt.title('CV accuracy vs K values')\n",
    "plt.show()"
   ]
  },
  {
   "cell_type": "markdown",
   "metadata": {},
   "source": [
    "We evaluate the model using the test set"
   ]
  },
  {
   "cell_type": "code",
   "execution_count": 256,
   "metadata": {},
   "outputs": [
    {
     "name": "stdout",
     "output_type": "stream",
     "text": [
      "Running ...\n",
      "\n",
      "\tK\t\tF1-score\tAccuracy\n",
      "\t10.000000\t0.905978\t0.906685\n",
      "\n",
      "Confusion matrix\n",
      "[[486   0  10   0   0   0]\n",
      " [ 36 431   4   0   0   0]\n",
      " [ 51  41 328   0   0   0]\n",
      " [  0   4   0 409  78   0]\n",
      " [  0   0   0  47 485   0]\n",
      " [  0   0   0   2   2 533]]\n",
      "========================================\n",
      "--- Running time: 14.2964010239 seconds ---\n"
     ]
    }
   ],
   "source": [
    "# test performance\n",
    "start_time = time.time()\n",
    "print(\"Running ...\")\n",
    "print \n",
    "print \"\\tK\\t\\tF1-score\\tAccuracy\"\n",
    "\n",
    "knn_model = KNeighborsClassifier(n_neighbors=best_K)\n",
    "knn_model.fit(X_train, y_train)\n",
    "y_pred = knn_model.predict(X_test)\n",
    "test_acc = accuracy_score(y_test, y_pred)\n",
    "test_f1score = f1_score(y_test, y_pred, average='weighted')\n",
    "print \"\\t{:f}\\t{:f}\\t{:f}\".format(best_K, test_f1score, test_acc)\n",
    "print \n",
    "print \"Confusion matrix\"\n",
    "print confusion_matrix(y_test, y_pred)\n",
    "\n",
    "print(\"=\"*40)\n",
    "runtime = time.time() - start_time\n",
    "print(\"--- Running time: %s seconds ---\" % (runtime))\n",
    "\n",
    "classifier_r.append(\"K-NN\")\n",
    "parameters_r.append(\"No. of neighbours = {}\".format(best_K))\n",
    "f1score_r.append(test_f1score)\n",
    "accuracy_r.append(test_acc)"
   ]
  },
  {
   "cell_type": "markdown",
   "metadata": {},
   "source": [
    "### Multiclass Logistic Regression with Elastic Net\n",
    "First we determine the best alpha and l1 values for the model."
   ]
  },
  {
   "cell_type": "code",
   "execution_count": 258,
   "metadata": {},
   "outputs": [
    {
     "name": "stdout",
     "output_type": "stream",
     "text": [
      "Running ...\n",
      "\n",
      "\tAlpha\t\tL1 Ratio\tF1-score\tAccuracy\n",
      "\t0.000100\t0.000000\t0.911455\t0.911589\n",
      "\t0.000100\t0.150000\t0.925097\t0.925326\n",
      "\t0.000100\t0.500000\t0.932776\t0.932807\n",
      "\t0.000100\t0.700000\t0.932035\t0.931991\n",
      "\t0.000100\t1.000000\t0.925149\t0.925054\n",
      "\t0.000300\t0.000000\t0.910651\t0.910501\n",
      "\t0.000300\t0.150000\t0.914220\t0.913765\n",
      "\t0.000300\t0.500000\t0.932043\t0.932127\n",
      "\t0.000300\t0.700000\t0.924900\t0.924918\n",
      "\t0.000300\t1.000000\t0.923515\t0.923558\n",
      "\t0.001000\t0.000000\t0.920982\t0.920838\n",
      "\t0.001000\t0.150000\t0.937876\t0.937840\n",
      "\t0.001000\t0.500000\t0.940059\t0.940016\n",
      "\t0.001000\t0.700000\t0.931202\t0.931175\n",
      "\t0.001000\t1.000000\t0.923842\t0.923830\n",
      "\t0.003000\t0.000000\t0.923053\t0.923150\n",
      "\t0.003000\t0.150000\t0.931048\t0.931175\n",
      "\t0.003000\t0.500000\t0.934772\t0.934848\n",
      "\t0.003000\t0.700000\t0.933064\t0.933079\n",
      "\t0.003000\t1.000000\t0.912525\t0.912405\n",
      "\t0.010000\t0.000000\t0.913258\t0.913357\n",
      "\t0.010000\t0.150000\t0.912600\t0.912949\n",
      "\t0.010000\t0.500000\t0.898373\t0.898803\n",
      "\t0.010000\t0.700000\t0.895590\t0.896083\n",
      "\t0.010000\t1.000000\t0.896580\t0.897035\n",
      "\t0.030000\t0.000000\t0.899125\t0.899755\n",
      "\t0.030000\t0.150000\t0.887856\t0.888738\n",
      "\t0.030000\t0.500000\t0.855906\t0.856910\n",
      "\t0.030000\t0.700000\t0.830011\t0.832018\n",
      "\t0.030000\t1.000000\t0.794995\t0.800190\n",
      "========================================\n",
      "--- Running time: 485.72831893 seconds ---\n"
     ]
    }
   ],
   "source": [
    "alpha_val = [1e-4,3e-4,1e-3,3e-3,1e-2,3e-2]\n",
    "l1 = [0,0.15,0.5,0.7,1]\n",
    "\n",
    "alpha_ = []\n",
    "l1_ = []\n",
    "fscore = []\n",
    "accur = []\n",
    "print(\"Running ...\")\n",
    "print \n",
    "\n",
    "print \"\\tAlpha\\t\\tL1 Ratio\\tF1-score\\tAccuracy\"\n",
    "\n",
    "for i in range(0,6):\n",
    "    for j in l1:\n",
    "        enet = SGDClassifier(loss='log', penalty='elasticnet', alpha=alpha_val[i], l1_ratio=j) \n",
    "        enet.fit(X_train, y_train)\n",
    "        y_pred = enet.predict(X_train)\n",
    "        enet_acc = accuracy_score(y_pred, y_train)\n",
    "        y_pred = cross_val_predict(enet, X_train, y_train, cv=10)\n",
    "        en_f1score = f1_score(y_train, y_pred, average='weighted')\n",
    "        en_accuracy = accuracy_score(y_train, y_pred)\n",
    "        alpha_.append(alpha_val[i])\n",
    "        l1_.append(j)\n",
    "        fscore.append(en_f1score)\n",
    "        accur.append(accuracy)\n",
    "        print \"\\t{:f}\\t{:f}\\t{:f}\\t{:f}\".format(alpha_val[i],j,en_f1score, en_accuracy)\n",
    "\n",
    "print(\"=\"*40)\n",
    "runtime = time.time() - start_time\n",
    "print(\"--- Running time: %s seconds ---\" % (runtime))\n"
   ]
  },
  {
   "cell_type": "code",
   "execution_count": 259,
   "metadata": {},
   "outputs": [
    {
     "name": "stdout",
     "output_type": "stream",
     "text": [
      "The highest f1 score is 0.94005893626\n",
      "The best parameters are alpha=0.001, l1=0.5\n"
     ]
    }
   ],
   "source": [
    "print \"The highest f1 score is {}\". format(max(fscore))\n",
    "idx = fscore.index(max(fscore))\n",
    "best_alpha = alpha_[idx]\n",
    "best_l1 = l1_[idx]\n",
    "print \"The best parameters are alpha={}, l1={}\".format(best_alpha, best_l1)"
   ]
  },
  {
   "cell_type": "code",
   "execution_count": 260,
   "metadata": {
    "scrolled": true
   },
   "outputs": [
    {
     "data": {
      "image/png": "[encoded data removed]",
      "text/plain": [
       "<matplotlib.figure.Figure at 0x116b84e90>"
      ]
     },
     "metadata": {},
     "output_type": "display_data"
    }
   ],
   "source": [
    "fig = plt.figure()\n",
    "ax = fig.add_subplot(111, projection='3d')\n",
    "X, Y = np.meshgrid(alpha_, l1_)\n",
    "\n",
    "ax.plot_surface(X, Y, fscore)\n",
    "ax.set_xlabel('Alpha')\n",
    "ax.set_ylabel('L1')\n",
    "ax.set_zlabel('F1 score')\n",
    "plt.show()"
   ]
  },
  {
   "cell_type": "markdown",
   "metadata": {},
   "source": [
    "With the best alpha and l1 values we retrain the model using the test dataset to make predictions."
   ]
  },
  {
   "cell_type": "code",
   "execution_count": 261,
   "metadata": {
    "scrolled": true
   },
   "outputs": [
    {
     "name": "stdout",
     "output_type": "stream",
     "text": [
      "Running ...\n",
      "\n",
      "\tAlpha\t\tL1 Ratio\tF1-score\tAccuracy\n",
      "\t0.001000\t0.500000\t0.943121\t0.943672\n",
      "\n",
      "Confusion matrix\n",
      "[[490   3   3   0   0   0]\n",
      " [ 16 440  14   1   0   0]\n",
      " [  4  10 404   0   2   0]\n",
      " [  1   3   0 389  98   0]\n",
      " [  2   0   0   9 521   0]\n",
      " [  0   0   0   0   0 537]]\n",
      "========================================\n",
      "--- Running time: 1.21427702904 seconds ---\n"
     ]
    }
   ],
   "source": [
    "# test performance\n",
    "start_time = time.time()\n",
    "print(\"Running ...\")\n",
    "print \n",
    "print \"\\tAlpha\\t\\tL1 Ratio\\tF1-score\\tAccuracy\"\n",
    "\n",
    "enet = SGDClassifier(loss='log', penalty='elasticnet', alpha=best_alpha, l1_ratio=best_l1) \n",
    "enet.fit(X_train, y_train)\n",
    "y_pred = enet.predict(X_test)\n",
    "en_test_acc = accuracy_score(y_test, y_pred)\n",
    "en_test_f1score = f1_score(y_test, y_pred, average='weighted')\n",
    "print \"\\t{:f}\\t{:f}\\t{:f}\\t{:f}\".format(best_alpha, best_l1, en_test_f1score, en_test_acc)\n",
    "print \n",
    "print \"Confusion matrix\"\n",
    "print confusion_matrix(y_test, y_pred)\n",
    "\n",
    "print(\"=\"*40)\n",
    "runtime = time.time() - start_time\n",
    "print(\"--- Running time: %s seconds ---\" % (runtime))\n",
    "\n",
    "classifier_r.append(\"EN\")\n",
    "parameters_r.append(\"Alpha={}, L1={}\".format(best_alpha, best_l1))\n",
    "f1score_r.append(en_test_f1score)\n",
    "accuracy_r.append(en_test_acc)"
   ]
  },
  {
   "cell_type": "markdown",
   "metadata": {},
   "source": [
    "### Support Vector Machine with RBF"
   ]
  },
  {
   "cell_type": "code",
   "execution_count": 263,
   "metadata": {},
   "outputs": [
    {
     "name": "stdout",
     "output_type": "stream",
     "text": [
      "Running ...\n",
      "\n",
      "\tGamma\t\tC value\t\tF1-score\tAccuracy\n",
      "\t0.001000\t1.000000\t0.908012\t0.908324\n",
      "\t0.001000\t10.000000\t0.943264\t0.943281\n",
      "\t0.001000\t100.000000\t0.951152\t0.951170\n",
      "\t0.001000\t1000.000000\t0.952643\t0.952666\n",
      "\t0.000100\t1.000000\t0.793790\t0.814064\n",
      "\t0.000100\t10.000000\t0.908279\t0.908596\n",
      "\t0.000100\t100.000000\t0.942461\t0.942465\n",
      "\t0.000100\t1000.000000\t0.948194\t0.948177\n",
      "========================================\n",
      "--- Running time: 1005.99349284 seconds ---\n"
     ]
    }
   ],
   "source": [
    "\n",
    "g = [1e-3, 1e-4]\n",
    "C = [1, 10, 100, 1000]\n",
    "\n",
    "gamma_ = []\n",
    "c_val = []\n",
    "fscore = []\n",
    "accur = []\n",
    "print(\"Running ...\")\n",
    "print \n",
    "\n",
    "print \"\\tGamma\\t\\tC value\\t\\tF1-score\\tAccuracy\"\n",
    "\n",
    "for i in range(0,2):\n",
    "    for j in C:\n",
    "        svc = svm.SVC(C=j, kernel='rbf', gamma=g[i]) \n",
    "        y_pred = cross_val_predict(svc, X_train, y_train, cv=10)\n",
    "        svm_fscore = f1_score(y_train, y_pred, average='weighted')\n",
    "        svm_accuracy = accuracy_score(y_train, y_pred)\n",
    "        gamma_.append(g[i])\n",
    "        c_val.append(j)\n",
    "        fscore.append(svm_fscore)\n",
    "        accur.append(svm_accuracy)\n",
    "        print \"\\t{:f}\\t{:f}\\t{:f}\\t{:f}\".format(g[i],j,svm_fscore, svm_accuracy)\n",
    "\n",
    "print(\"=\"*40)\n",
    "runtime = time.time() - start_time\n",
    "print(\"--- Running time: %s seconds ---\" % (runtime))\n"
   ]
  },
  {
   "cell_type": "code",
   "execution_count": 264,
   "metadata": {},
   "outputs": [
    {
     "name": "stdout",
     "output_type": "stream",
     "text": [
      "The highest f1 score is 0.95264291425\n",
      "The best parameters are gamma=0.001, C=1000\n"
     ]
    }
   ],
   "source": [
    "print \"The highest f1 score is {}\". format(max(fscore))\n",
    "idx = fscore.index(max(fscore))\n",
    "best_gamma = gamma_[idx]\n",
    "best_C = c_val[idx]\n",
    "print \"The best parameters are gamma={}, C={}\".format(best_gamma, best_C)"
   ]
  },
  {
   "cell_type": "code",
   "execution_count": 265,
   "metadata": {},
   "outputs": [
    {
     "data": {
      "image/png": "[encoded data removed]",
      "text/plain": [
       "<matplotlib.figure.Figure at 0x118081cd0>"
      ]
     },
     "metadata": {},
     "output_type": "display_data"
    }
   ],
   "source": [
    "fig = plt.figure()\n",
    "ax = fig.add_subplot(111, projection='3d')\n",
    "X, Y = np.meshgrid(gamma_, c_val)\n",
    "\n",
    "ax.plot_surface(X, Y, fscore)\n",
    "ax.set_xlabel('Gamma')\n",
    "ax.set_ylabel('C value')\n",
    "ax.set_zlabel('F1 score')\n",
    "plt.show()"
   ]
  },
  {
   "cell_type": "code",
   "execution_count": 266,
   "metadata": {},
   "outputs": [
    {
     "name": "stdout",
     "output_type": "stream",
     "text": [
      "Running ...\n",
      "\n",
      "\tGamma\t\tC value\t\tF1-score\tAccuracy\n",
      "\t0.001000\t1000.000000\t0.965625\t0.965728\n",
      "\n",
      "Confusion matrix\n",
      "[[493   0   3   0   0   0]\n",
      " [ 17 454   0   0   0   0]\n",
      " [  4  10 406   0   0   0]\n",
      " [  0   2   0 436  53   0]\n",
      " [  0   0   0  12 520   0]\n",
      " [  0   0   0   0   0 537]]\n",
      "========================================\n",
      "--- Running time: 3.69142103195 seconds ---\n"
     ]
    }
   ],
   "source": [
    "start_time = time.time()\n",
    "print(\"Running ...\")\n",
    "print \n",
    "print \"\\tGamma\\t\\tC value\\t\\tF1-score\\tAccuracy\"\n",
    "\n",
    "svc = svm.SVC(kernel='rbf', gamma=best_gamma, C=best_C)\n",
    "svc.fit(X_train,y_train)\n",
    "y_pred = svc.predict(X_test)\n",
    "svm_test_acc = accuracy_score(y_test, y_pred)\n",
    "svm_test_f1score = f1_score(y_test, y_pred, average='weighted')\n",
    "print \"\\t{:f}\\t{:f}\\t{:f}\\t{:f}\".format(best_gamma, best_C, svm_test_f1score, svm_test_acc)\n",
    "print \n",
    "print \"Confusion matrix\"\n",
    "print confusion_matrix(y_test, y_pred)\n",
    "\n",
    "print(\"=\"*40)\n",
    "runtime = time.time() - start_time\n",
    "print(\"--- Running time: %s seconds ---\" % (runtime))\n",
    "\n",
    "classifier_r.append(\"SVM\")\n",
    "parameters_r.append(\"Gamma={} C={}\".format(best_gamma, best_C))\n",
    "f1score_r.append(svm_test_f1score)\n",
    "accuracy_r.append(svm_test_acc)"
   ]
  },
  {
   "cell_type": "markdown",
   "metadata": {},
   "source": [
    "### Random Forest"
   ]
  },
  {
   "cell_type": "code",
   "execution_count": 269,
   "metadata": {
    "scrolled": true
   },
   "outputs": [
    {
     "name": "stdout",
     "output_type": "stream",
     "text": [
      "Running ...\n",
      "\n",
      "\tDepth\t\tNo. of Trees\tF1-score\tAccuracy\n",
      "\t300.000000\t200.000000\t0.929999\t0.929951\n",
      "\t300.000000\t500.000000\t0.931649\t0.931583\n",
      "\t300.000000\t700.000000\t0.932192\t0.932127\n",
      "\t500.000000\t200.000000\t0.929999\t0.929951\n",
      "\t500.000000\t500.000000\t0.931649\t0.931583\n",
      "\t500.000000\t700.000000\t0.932192\t0.932127\n",
      "========================================\n",
      "--- Running time: 3082.18720508 seconds ---\n"
     ]
    }
   ],
   "source": [
    "depth = [300,500,600]\n",
    "trees = [200,500,700]\n",
    "\n",
    "depth_ = []\n",
    "trees_ = []\n",
    "fscore = []\n",
    "accur = []\n",
    "\n",
    "print(\"Running ...\")\n",
    "print \n",
    "\n",
    "print \"\\tDepth\\t\\tNo. of Trees\\tF1-score\\tAccuracy\"\n",
    "\n",
    "for i in range(0,2):\n",
    "    for j in trees:\n",
    "        rfclf = RandomForestClassifier(n_estimators=j, max_depth=depth[i], random_state=444)\n",
    "        y_pred = cross_val_predict(rfclf, X_train, y_train, cv=10)\n",
    "        rf_f1score = f1_score(y_train, y_pred, average='weighted')\n",
    "        rf_accuracy = accuracy_score(y_train, y_pred)\n",
    "        depth_.append(depth[i])\n",
    "        trees_.append(j)\n",
    "        fscore.append(rf_f1score)\n",
    "        accur.append(rf_accuracy)\n",
    "        print \"\\t{:f}\\t{:f}\\t{:f}\\t{:f}\".format(depth[i],j,rf_f1score, rf_accuracy)\n",
    "        \n",
    "print(\"=\"*40)\n",
    "runtime = time.time() - start_time\n",
    "print(\"--- Running time: %s seconds ---\" % (runtime))"
   ]
  },
  {
   "cell_type": "code",
   "execution_count": 270,
   "metadata": {
    "scrolled": true
   },
   "outputs": [
    {
     "name": "stdout",
     "output_type": "stream",
     "text": [
      "The highest f1 score is 0.932192120239\n",
      "The best parameters are tree depth=300 with no. of trees=700\n"
     ]
    }
   ],
   "source": [
    "print \"The highest f1 score is {}\". format(max(fscore))\n",
    "idx = fscore.index(max(fscore))\n",
    "best_depth = depth_[idx]\n",
    "best_trees = trees_[idx]\n",
    "print \"The best parameters are tree depth={} with no. of trees={}\".format(best_depth, best_trees)"
   ]
  },
  {
   "cell_type": "code",
   "execution_count": 271,
   "metadata": {},
   "outputs": [
    {
     "data": {
      "image/png": "[encoded data removed]",
      "text/plain": [
       "<matplotlib.figure.Figure at 0x11706c650>"
      ]
     },
     "metadata": {},
     "output_type": "display_data"
    }
   ],
   "source": [
    "\n",
    "fig = plt.figure()\n",
    "ax = fig.add_subplot(111, projection='3d')\n",
    "X, Y = np.meshgrid(depth_, trees_)\n",
    "\n",
    "ax.plot_surface(X, Y, fscore)\n",
    "ax.set_xlabel('Tree depth')\n",
    "ax.set_ylabel('No. of trees')\n",
    "ax.set_zlabel('F1 score')\n",
    "plt.show()"
   ]
  },
  {
   "cell_type": "code",
   "execution_count": 274,
   "metadata": {},
   "outputs": [
    {
     "name": "stdout",
     "output_type": "stream",
     "text": [
      "Running ...\n",
      "\n",
      "\tDepth\t\tNo. of Trees\tF1-score\tAccuracy\n",
      "\t300.000000\t700.000000\t0.926447\t0.926705\n",
      "\n",
      "Confusion matrix\n",
      "[[481   7   8   0   0   0]\n",
      " [ 33 431   7   0   0   0]\n",
      " [ 20  46 354   0   0   0]\n",
      " [  0   0   0 440  51   0]\n",
      " [  0   0   0  44 488   0]\n",
      " [  0   0   0   0   0 537]]\n",
      "========================================\n",
      "--- Running time: 85.326390028 seconds ---\n"
     ]
    }
   ],
   "source": [
    "start_time = time.time()\n",
    "print(\"Running ...\")\n",
    "print \n",
    "print \"\\tDepth\\t\\tNo. of Trees\\tF1-score\\tAccuracy\"\n",
    "\n",
    "rfclf = RandomForestClassifier(n_estimators=best_trees, max_depth=best_depth, random_state=444)\n",
    "rfclf.fit(X_train,y_train)\n",
    "y_pred = rfclf.predict(X_test)\n",
    "rf_test_acc = accuracy_score(y_test, y_pred)\n",
    "rf_test_f1score = f1_score(y_test, y_pred, average='weighted')\n",
    "print \"\\t{:f}\\t{:f}\\t{:f}\\t{:f}\".format(best_depth, best_trees, rf_test_f1score, rf_test_acc)\n",
    "print \n",
    "print \"Confusion matrix\"\n",
    "print confusion_matrix(y_test, y_pred)\n",
    "\n",
    "print(\"=\"*40)\n",
    "runtime = time.time() - start_time\n",
    "print(\"--- Running time: %s seconds ---\" % (runtime))\n",
    "\n",
    "classifier_r.append(\"RF\")\n",
    "parameters_r.append(\"Depth={} Trees={}\".format(best_depth, best_trees))\n",
    "f1score_r.append(rf_test_f1score)\n",
    "accuracy_r.append(rf_test_acc)"
   ]
  },
  {
   "cell_type": "markdown",
   "metadata": {},
   "source": [
    "### Discussion"
   ]
  },
  {
   "cell_type": "code",
   "execution_count": 372,
   "metadata": {
    "scrolled": true
   },
   "outputs": [
    {
     "name": "stdout",
     "output_type": "stream",
     "text": [
      "Summary:\n",
      "\tClassifier\tBest parameters\t\t\tF1 Score\tAccuracy\n",
      "\tK-NN\t\tNo. of neighbours = 10\t\t0.905978\t0.906685\n",
      "\tEN\t\tAlpha=0.001 L1=0.5\t\t0.943121\t0.943672\n",
      "\tSVM\t\tGamma=0.001 C=1000\t\t0.965625\t0.965728\n",
      "\tRF\t\tDepth=300 Trees=700\t\t0.926447\t0.926705\n",
      "\n",
      "The highest F1 Score is 0.965624534728 where SVM classifier is used with Gamma=0.001 C=1000.\n",
      "The performance result is the same (that is 96%) with  result in the dataset paper. The use of RBF kernel makes SVM classifier learns non-linear problems better. SVM performance can be improved with large training data set.\n",
      "\n",
      "The worst performing classifier is K-NN with No. of neighbours = 10 which gave F1 score 0.90597818803.\n",
      "k-NN classisifier can be improved by assigning weights to the neighbours. Neighbours with large distances could be assigned with low weights.\n"
     ]
    }
   ],
   "source": [
    "print \"Summary:\"\n",
    "print \"\\tClassifier\\tBest parameters\\t\\t\\tF1 Score\\tAccuracy\"\n",
    "for i in range(0,4):\n",
    "    print \"\\t{:s}\\t\\t{:s}\\t\\t{:f}\\t{:f}\".format(classifier_r[i], parameters_r[i], f1score_r[i], accuracy_r[i])\n",
    "print \n",
    "idx = f1score_r.index(max(f1score_r))\n",
    "idx_ = f1score_r.index(min(f1score_r))\n",
    "print 'The highest F1 Score is {} where {} classifier is used with {}.'.format(max(f1score_r), classifier_r[idx], parameters_r[idx])\n",
    "print 'The performance result is the same (that is 96%) with  result in the dataset paper. The use of RBF kernel makes SVM classifier learns non-linear problems better. SVM performance can be improved with large training data set.'\n",
    "print \n",
    "print 'The worst performing classifier is {} with {} which gave F1 score {}.'. format(classifier_r[idx_],  parameters_r[idx_], min(f1score_r))\n",
    "print 'k-NN classisifier can be improved by assigning weights to the neighbours. Neighbours with large distances could be assigned with low weights.'\n",
    "\n"
   ]
  }
 ],
 "metadata": {
  "kernelspec": {
   "display_name": "Python 2",
   "language": "python",
   "name": "python2"
  },
  "language_info": {
   "codemirror_mode": {
    "name": "ipython",
    "version": 2
   },
   "file_extension": ".py",
   "mimetype": "text/x-python",
   "name": "python",
   "nbconvert_exporter": "python",
   "pygments_lexer": "ipython2",
   "version": "2.7.13"
  }
 },
 "nbformat": 4,
 "nbformat_minor": 1
}
